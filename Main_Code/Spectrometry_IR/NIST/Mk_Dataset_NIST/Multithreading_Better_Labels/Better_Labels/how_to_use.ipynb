{
 "cells": [
  {
   "cell_type": "code",
   "execution_count": 2,
   "metadata": {},
   "outputs": [],
   "source": [
    "from pyCheckmol import CheckMol\n",
    "import numpy as np"
   ]
  },
  {
   "cell_type": "markdown",
   "metadata": {},
   "source": [
    "- This function generates the bitvector of functional groups (FG) that can be used in QSPR-QSAR modeling.\n",
    "- Each position means the presence or absence of a certain FG. The positions of this vector follows the ordering of checkmol table, i.e, the first position is the presence/absence of cation, in the same way the last position (204) is the alpha-hydroxyacid.\n"
   ]
  },
  {
   "cell_type": "code",
   "execution_count": 9,
   "metadata": {},
   "outputs": [
    {
     "name": "stdout",
     "output_type": "stream",
     "text": [
      "205\n",
      "Index of 1 element: 201\n"
     ]
    }
   ],
   "source": [
    "smi = 'CC1=CC(=CC=C1)C'\n",
    "cm = CheckMol()\n",
    "cm.functionalGroupASbitvector(smi)\n",
    "\n",
    "bitvector = cm.functionalGroupASbitvector(smi)\n",
    "print(len(bitvector))\n",
    "print(f\"Index of 1 element: {np.where(bitvector == 1)[0][0] if 1 in bitvector else 'No 1 element found'}\")\n"
   ]
  },
  {
   "cell_type": "markdown",
   "metadata": {},
   "source": [
    "- The `cm.functionalGroupSmiles` function returns the functional groups information organized in a pandas.Dataframe, dictionary or just the list with the functional groups code by seting the parameters `justFGcode` and `returnDataframe`."
   ]
  },
  {
   "cell_type": "code",
   "execution_count": 24,
   "metadata": {},
   "outputs": [
    {
     "data": {
      "text/plain": [
       "{'Functional Group': ['alkyne '],\n",
       " 'Frequency': ['1'],\n",
       " 'Atom Position': ['2-3-4-5-6-7-'],\n",
       " 'Functional Group Number': ['201'],\n",
       " 'Code': ['000C3C00 ']}"
      ]
     },
     "execution_count": 24,
     "metadata": {},
     "output_type": "execute_result"
    }
   ],
   "source": [
    "smi = 'CC1=CC(=CC=C1)C'\n",
    "cm = CheckMol()\n",
    "res = cm.functionalGroupSmiles(smiles=smi, isString=True, generate3D=False, justFGcode=False, returnDataframe=False,deleteTMP=False)\n",
    "res"
   ]
  },
  {
   "cell_type": "markdown",
   "metadata": {},
   "source": [
    "- The full output about the molecule and functional groups provided by checkmol can be viewed using the following command"
   ]
  },
  {
   "cell_type": "code",
   "execution_count": 10,
   "metadata": {},
   "outputs": [
    {
     "name": "stdout",
     "output_type": "stream",
     "text": [
      "Molecule name: \n",
      "atoms: 8  bonds: 8  rings: 1\n",
      "   1 C  C3    -0.8660   -1.5000    0.0000  (1 heavy-atom neighbors, Hexp: 0 Htot: 3)\n",
      "   2 C  CAR   -0.8660   -0.5000    0.0000  (3 heavy-atom neighbors, Hexp: 0 Htot: 0) aromatic\n",
      "   3 C  CAR   -1.7321   -0.0000    0.0000  (2 heavy-atom neighbors, Hexp: 0 Htot: 1) aromatic\n",
      "   4 C  CAR   -1.7321    1.0000    0.0000  (3 heavy-atom neighbors, Hexp: 0 Htot: 0) aromatic\n",
      "   5 C  CAR   -0.8660    1.5000    0.0000  (2 heavy-atom neighbors, Hexp: 0 Htot: 1) aromatic\n",
      "   6 C  CAR   -0.0000    1.0000    0.0000  (2 heavy-atom neighbors, Hexp: 0 Htot: 1) aromatic\n",
      "   7 C  CAR    0.0000    0.0000    0.0000  (2 heavy-atom neighbors, Hexp: 0 Htot: 1) aromatic\n",
      "   8 C  C3    -2.5981    1.5000    0.0000  (1 heavy-atom neighbors, Hexp: 0 Htot: 3)\n",
      "   1 1 2 S\n",
      "   2 2 7 S, contained in 1 ring(s) (aromatic) \n",
      "   3 2 3 D, contained in 1 ring(s) (aromatic) \n",
      "   4 3 4 S, contained in 1 ring(s) (aromatic) \n",
      "   5 4 5 D, contained in 1 ring(s) (aromatic) \n",
      "   6 4 8 S\n",
      "   7 5 6 S, contained in 1 ring(s) (aromatic) \n",
      "   8 6 7 D, contained in 1 ring(s) (aromatic) \n",
      "ring 1: 2 3 4 5 6 7  (aromatic)\n",
      "aromatic compound\n"
     ]
    }
   ],
   "source": [
    "print(cm.information_)"
   ]
  }
 ],
 "metadata": {
  "kernelspec": {
   "display_name": "Python 3",
   "language": "python",
   "name": "python3"
  },
  "language_info": {
   "codemirror_mode": {
    "name": "ipython",
    "version": 3
   },
   "file_extension": ".py",
   "mimetype": "text/x-python",
   "name": "python",
   "nbconvert_exporter": "python",
   "pygments_lexer": "ipython3",
   "version": "3.12.6"
  }
 },
 "nbformat": 4,
 "nbformat_minor": 4
}
